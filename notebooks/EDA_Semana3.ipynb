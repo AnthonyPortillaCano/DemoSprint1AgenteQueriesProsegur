{
 "cells": [
  {
   "cell_type": "code",
   "execution_count": 16,
   "id": "4f28d46e",
   "metadata": {},
   "outputs": [
    {
     "name": "stdout",
     "output_type": "stream",
     "text": [
      "Cantidad de campos únicos: 12\n",
      "Ejemplo de rutas de campos:\n",
      "- Date\n",
      "- Devices\n",
      "- Devices.BranchCode\n",
      "- Devices.Id\n",
      "- Devices.ServicePoints\n",
      "- Devices.ServicePoints.ShipOutCycles\n",
      "- Devices.ServicePoints.ShipOutCycles.Code\n",
      "- Devices.ServicePoints.ShipOutCycles.ConfirmationCode\n",
      "- Devices.ServicePoints.ShipOutCycles.SubChannelCode\n",
      "- Devices.ServicePoints.ShipOutCycles.Transactions\n",
      "\n",
      "Ejemplo de documento de entrada:\n",
      "{\n",
      "  \"Date\": \"2024-01-15T10:30:00Z\",\n",
      "  \"Devices\": [\n",
      "    {\n",
      "      \"Id\": \"DEV001\",\n",
      "      \"BranchCode\": \"PE240\",\n",
      "      \"ServicePoints\": [\n",
      "        {\n",
      "          \"ShipOutCycles\": [\n",
      "            {\n",
      "              \"SubChannelCode\": \"CH001\",\n",
      "              \"Code\": \"SO001\",\n",
      "              \"ConfirmationCode\": \"CONF001\",\n",
      "              \"Transactions\": [\n",
      "                {\n",
      "                  \"Total\": 100.5,\n",
      "                  \"CurrencyCode\": \"PEN\"\n",
      "                }\n",
      "              ]\n",
      "            }\n",
      "          ]\n",
      "        }\n",
      "      ]\n",
      "    }\n",
      "  ]\n",
      "}\n"
     ]
    }
   ],
   "source": [
    "# Ejemplo: análisis de estructura y profundidad de los datos\n",
    "import json\n",
    "from collections import defaultdict\n",
    "\n",
    "def flatten_keys(d, parent_key='', sep='.'):  # Recursivo para rutas anidadas\n",
    "    keys = set()\n",
    "    if isinstance(d, dict):\n",
    "        for k, v in d.items():\n",
    "            new_key = f\"{parent_key}{sep}{k}\" if parent_key else k\n",
    "            keys.add(new_key)\n",
    "            keys |= flatten_keys(v, new_key, sep=sep)\n",
    "    elif isinstance(d, list) and d:\n",
    "        for item in d:\n",
    "            keys |= flatten_keys(item, parent_key, sep=sep)\n",
    "    return keys\n",
    "\n",
    "# Carga el dataset de ejemplo\n",
    "with open('../datasets/transactions_collection.json', encoding='utf-8') as f:\n",
    "    data = json.load(f)\n",
    "\n",
    "# Detecta la lista principal bajo la clave correcta\n",
    "main_list = data.get('sample_documents', [])\n",
    "\n",
    "if main_list and len(main_list) > 0:\n",
    "    # Extrae todas las rutas de campos\n",
    "    all_keys = set()\n",
    "    for item in main_list:\n",
    "        all_keys |= flatten_keys(item)\n",
    "\n",
    "    print(f'Cantidad de campos únicos: {len(all_keys)}')\n",
    "    print('Ejemplo de rutas de campos:')\n",
    "    for k in list(sorted(all_keys))[:10]:\n",
    "        print('-', k)\n",
    "\n",
    "    # Ejemplo de estructura de entrada\n",
    "    print('\\nEjemplo de documento de entrada:')\n",
    "    print(json.dumps(main_list[0], indent=2, ensure_ascii=False))\n",
    "else:\n",
    "    print('No se encontró una lista principal válida o está vacía en el dataset.')"
   ]
  },
  {
   "cell_type": "markdown",
   "id": "b4e1971b",
   "metadata": {},
   "source": [
    "### 2. Estructura y complejidad de los datos\n",
    "- Análisis de profundidad y anidamiento de los documentos\n",
    "- Conteo de campos únicos y rutas de acceso\n",
    "- Ejemplo de estructura de entrada y salida\n"
   ]
  },
  {
   "cell_type": "code",
   "execution_count": 17,
   "id": "13e442ff",
   "metadata": {},
   "outputs": [
    {
     "name": "stdout",
     "output_type": "stream",
     "text": [
      "clase\n",
      "agregación      2\n",
      "filtrado        1\n",
      "join            1\n",
      "ordenamiento    1\n",
      "otro            1\n",
      "Name: count, dtype: int64\n",
      "\n",
      "Ejemplos por clase:\n",
      "                        instruccion         clase\n",
      "0   Suma el total de ventas por mes    agregación\n",
      "1       Filtra los clientes de Lima      filtrado\n",
      "2   Une empleados con departamentos          join\n",
      "3       Muestra el promedio de edad    agregación\n",
      "4      Ordena por fecha descendente  ordenamiento\n",
      "5  ¿Cuántos productos hay en stock?          otro\n"
     ]
    }
   ],
   "source": [
    "# Ejemplo: análisis de cobertura y diversidad de instrucciones\n",
    "import re\n",
    "import pandas as pd\n",
    "\n",
    "# Suponiendo que tienes una lista de instrucciones en lenguaje natural\n",
    "# Por ejemplo, cargadas desde un archivo o una columna de un DataFrame\n",
    "# Aquí se simula una lista de ejemplos\n",
    "instrucciones = [\n",
    "    \"Suma el total de ventas por mes\",\n",
    "    \"Filtra los clientes de Lima\",\n",
    "    \"Une empleados con departamentos\",\n",
    "    \"Muestra el promedio de edad\",\n",
    "    \"Ordena por fecha descendente\",\n",
    "    \"¿Cuántos productos hay en stock?\",\n",
    "    # ... agrega tus ejemplos reales aquí ...\n",
    "]\n",
    "\n",
    "def clasificar_instruccion(instr):\n",
    "    instr = instr.lower()\n",
    "    if re.search(r'suma|total|sumar|adicionar', instr):\n",
    "        return 'agregación'\n",
    "    elif re.search(r'filtra|filtro|donde|where', instr):\n",
    "        return 'filtrado'\n",
    "    elif re.search(r'une|join|unir|fusionar', instr):\n",
    "        return 'join'\n",
    "    elif re.search(r'promedio|media|avg', instr):\n",
    "        return 'agregación'\n",
    "    elif re.search(r'ordena|sort|ordenar', instr):\n",
    "        return 'ordenamiento'\n",
    "    elif re.search(r'muestra|proyecta|selecciona|mostrar', instr):\n",
    "        return 'proyección'\n",
    "    else:\n",
    "        return 'otro'\n",
    "\n",
    "# Clasifica y cuenta\n",
    "clases = [clasificar_instruccion(i) for i in instrucciones]\n",
    "df_instr = pd.DataFrame({'instruccion': instrucciones, 'clase': clases})\n",
    "print(df_instr['clase'].value_counts())\n",
    "print('\\nEjemplos por clase:')\n",
    "print(df_instr.groupby('clase').head(2))"
   ]
  },
  {
   "cell_type": "markdown",
   "id": "afa35444",
   "metadata": {},
   "source": [
    "### 1. Cobertura y diversidad de ejemplos de lenguaje natural\n",
    "- Conteo de tipos de instrucciones (agregación, filtrado, join, etc.)\n",
    "- Diversidad de formas de expresar cada operación\n",
    "- Cantidad de campos y operaciones diferentes presentes\n"
   ]
  },
  {
   "cell_type": "markdown",
   "id": "1e6073bf",
   "metadata": {},
   "source": [
    "## EDA específico para generación de queries MongoDB a partir de lenguaje natural\n",
    "\n",
    "Este EDA está enfocado en analizar la cobertura, diversidad y dificultad del dataset de instrucciones en lenguaje natural, la estructura de los datos y la capacidad del agente para generar queries correctas.\n"
   ]
  },
  {
   "cell_type": "markdown",
   "id": "c79081b1",
   "metadata": {},
   "source": [
    "## 5. Resultados y gráfica central\n",
    "\n",
    "- Tabla resumen de desempeño del agente NL→MongoDB.\n",
    "- Gráficos de cobertura semántica y diversidad de instrucciones.\n",
    "- Discusión de resultados y próximos pasos para mejorar el agente.\n"
   ]
  },
  {
   "cell_type": "markdown",
   "id": "85cf1182",
   "metadata": {},
   "source": [
    "## 4. Evaluación del agente y análisis de errores\n",
    "\n",
    "- Evaluación semántica del agente NL→MongoDB sobre instrucciones en lenguaje natural.\n",
    "- Identificación de tipos de instrucciones resueltas y fallidas.\n",
    "- Análisis de errores frecuentes y limitaciones actuales.\n"
   ]
  },
  {
   "cell_type": "markdown",
   "id": "6f77d3b8",
   "metadata": {},
   "source": [
    "## 3. Riesgos identificados\n",
    "\n",
    "- Análisis de posibles riesgos: leakage, desbalance de clases, drift de datos.\n",
    "- Observaciones sobre cobertura y limitaciones del dataset para generación de queries.\n"
   ]
  },
  {
   "cell_type": "markdown",
   "id": "c99e17f1",
   "metadata": {},
   "source": [
    "## 2. Distribución de variables clave\n",
    "\n",
    "- Gráficas de frecuencia de operaciones, campos y tipos de instrucciones.\n",
    "- Histograma de longitud de instrucciones (solo si aporta al análisis semántico, no como baseline ML).\n"
   ]
  },
  {
   "cell_type": "markdown",
   "id": "0d02da94",
   "metadata": {},
   "source": [
    "## 1. Estadísticas descriptivas básicas\n",
    "\n",
    "- Resumen de cantidad de ejemplos, tipos de instrucciones, operaciones y campos presentes.\n",
    "- Estadísticas de longitud de instrucciones y diversidad de sinónimos.\n",
    "- Sin métricas de modelos ML, solo análisis exploratorio relevante para queries.\n"
   ]
  },
  {
   "cell_type": "markdown",
   "id": "a052ea84",
   "metadata": {},
   "source": [
    "# EDA y Baseline para Generación de Queries MongoDB\n",
    "\n",
    "Este notebook cumple con los entregables solicitados:\n",
    "- Estadísticas descriptivas básicas\n",
    "- Distribución de variables clave\n",
    "- Identificación de riesgos (leakage, desbalance, drift)\n",
    "- Baseline mínimo ejecutado\n",
    "- Métrica inicial coherente con el problema\n",
    "- Resultados y gráfica central\n"
   ]
  },
  {
   "cell_type": "markdown",
   "id": "583643de",
   "metadata": {},
   "source": [
    "# EDA y Sinónimos para Queries MongoDB\n",
    "\n",
    "Este notebook demuestra cómo realizar un análisis exploratorio de datos (EDA) y cómo manejar sinónimos en la generación de queries MongoDB para cumplir los entregables de la semana 3."
   ]
  },
  {
   "cell_type": "code",
   "execution_count": 18,
   "id": "e4283560",
   "metadata": {},
   "outputs": [],
   "source": [
    "# 1. Importar librerías necesarias\n",
    "import pandas as pd\n",
    "import numpy as np\n",
    "import matplotlib.pyplot as plt\n",
    "import seaborn as sns\n",
    "from collections import defaultdict"
   ]
  },
  {
   "cell_type": "code",
   "execution_count": 19,
   "id": "514c5b1d",
   "metadata": {},
   "outputs": [],
   "source": [
    "# 2. Definir función o clase para manejo de sinónimos\n",
    "class SynonymMapper:\n",
    "    def __init__(self, operation_synonyms, field_synonyms):\n",
    "        self.operation_synonyms = operation_synonyms\n",
    "        self.field_synonyms = field_synonyms\n",
    "    \n",
    "    def normalize_operation(self, op):\n",
    "        op = op.lower()\n",
    "        for canonical, synonyms in self.operation_synonyms.items():\n",
    "            if op == canonical or op in synonyms:\n",
    "                return canonical\n",
    "        return op\n",
    "    \n",
    "    def normalize_field(self, field):\n",
    "        field = field.lower().replace(' ', '')\n",
    "        for canonical, synonyms in self.field_synonyms.items():\n",
    "            if field == canonical.lower() or field in [s.replace(' ', '') for s in synonyms]:\n",
    "                return canonical\n",
    "        return field"
   ]
  },
  {
   "cell_type": "code",
   "execution_count": 20,
   "id": "049cc0ca",
   "metadata": {},
   "outputs": [],
   "source": [
    "# 3. Ejemplo de mapeo de sinónimos de operaciones\n",
    "operation_synonyms = {\n",
    "    'sum': ['suma', 'sumar', 'adicionar'],\n",
    "    'group': ['agrupar', 'group by', 'agrupar por'],\n",
    "    'project': ['proyectar', 'seleccionar', 'mostrar'],\n",
    "    'sort': ['ordenar', 'ordenar por', 'sort'],\n",
    "    'join': ['une', 'unir', 'join', 'fusionar', 'combinar']\n",
    "}\n",
    "\n",
    "# 4. Ejemplo de mapeo de sinónimos de campos\n",
    "field_synonyms = {\n",
    "    'nombre': ['name', 'nombres', 'nombre'],\n",
    "    'apellido': ['surname', 'apellidos', 'apellido'],\n",
    "    'departamento_id': ['departamentoid', 'id_departamento', 'departamento_id'],\n",
    "    'departamento_nombre': ['departamento', 'nombre_departamento', 'departamento_nombre']\n",
    "}"
   ]
  },
  {
   "cell_type": "code",
   "execution_count": 21,
   "id": "7eea6f60",
   "metadata": {},
   "outputs": [
    {
     "name": "stdout",
     "output_type": "stream",
     "text": [
      "Operación normalizada: join\n",
      "Campos normalizados: nombre, apellido, departamento_nombre\n"
     ]
    }
   ],
   "source": [
    "# 5. Normalización de texto usando sinónimos\n",
    "syn_mapper = SynonymMapper(operation_synonyms, field_synonyms)\n",
    "\n",
    "consulta_natural = \"une la colección empleados con la colección departamentos usando el campo departamento_id y proyecta los campos nombre, apellido, departamento_nombre\"\n",
    "\n",
    "# Normalizar operaciones y campos\n",
    "operacion = syn_mapper.normalize_operation('une')\n",
    "campo1 = syn_mapper.normalize_field('nombre')\n",
    "campo2 = syn_mapper.normalize_field('apellido')\n",
    "campo3 = syn_mapper.normalize_field('departamento_nombre')\n",
    "\n",
    "print(f\"Operación normalizada: {operacion}\")\n",
    "print(f\"Campos normalizados: {campo1}, {campo2}, {campo3}\")"
   ]
  },
  {
   "cell_type": "code",
   "execution_count": 22,
   "id": "28f306a1",
   "metadata": {},
   "outputs": [
    {
     "name": "stdout",
     "output_type": "stream",
     "text": [
      "Consulta traducida a forma canónica:\n",
      "{'operacion': 'join', 'coleccion_local': 'empleados', 'coleccion_foranea': 'departamentos', 'campo_join': 'departamento_id', 'proyeccion': ['nombre', 'apellido', 'departamento_nombre']}\n"
     ]
    }
   ],
   "source": [
    "# 6. Validación de sinónimos en consulta de ejemplo\n",
    "# Simulación de traducción de consulta natural a pipeline canónico\n",
    "consulta = {\n",
    "    'operacion': syn_mapper.normalize_operation('une'),\n",
    "    'coleccion_local': 'empleados',\n",
    "    'coleccion_foranea': 'departamentos',\n",
    "    'campo_join': syn_mapper.normalize_field('departamento_id'),\n",
    "    'proyeccion': [\n",
    "        syn_mapper.normalize_field('nombre'),\n",
    "        syn_mapper.normalize_field('apellido'),\n",
    "        syn_mapper.normalize_field('departamento_nombre')\n",
    "    ]\n",
    "}\n",
    "\n",
    "print(\"Consulta traducida a forma canónica:\")\n",
    "print(consulta)"
   ]
  },
  {
   "cell_type": "markdown",
   "id": "5cb79789",
   "metadata": {},
   "source": [
    "# Análisis Exploratorio de Datos (EDA) sobre `transactions_collection`\n",
    "En esta sección se realiza un análisis exploratorio real sobre la colección principal, mostrando estadísticas descriptivas y visualizaciones clave."
   ]
  },
  {
   "cell_type": "code",
   "execution_count": 23,
   "id": "3ace4713",
   "metadata": {},
   "outputs": [
    {
     "data": {
      "text/html": [
       "<div>\n",
       "<style scoped>\n",
       "    .dataframe tbody tr th:only-of-type {\n",
       "        vertical-align: middle;\n",
       "    }\n",
       "\n",
       "    .dataframe tbody tr th {\n",
       "        vertical-align: top;\n",
       "    }\n",
       "\n",
       "    .dataframe thead th {\n",
       "        text-align: right;\n",
       "    }\n",
       "</style>\n",
       "<table border=\"1\" class=\"dataframe\">\n",
       "  <thead>\n",
       "    <tr style=\"text-align: right;\">\n",
       "      <th></th>\n",
       "      <th>Date</th>\n",
       "      <th>Devices</th>\n",
       "    </tr>\n",
       "  </thead>\n",
       "  <tbody>\n",
       "    <tr>\n",
       "      <th>0</th>\n",
       "      <td>2024-01-15T10:30:00Z</td>\n",
       "      <td>[{'Id': 'DEV001', 'BranchCode': 'PE240', 'Serv...</td>\n",
       "    </tr>\n",
       "  </tbody>\n",
       "</table>\n",
       "</div>"
      ],
      "text/plain": [
       "                   Date                                            Devices\n",
       "0  2024-01-15T10:30:00Z  [{'Id': 'DEV001', 'BranchCode': 'PE240', 'Serv..."
      ]
     },
     "execution_count": 23,
     "metadata": {},
     "output_type": "execute_result"
    }
   ],
   "source": [
    "# Cargar datos de ejemplo de transactions_collection\n",
    "import json\n",
    "import pandas as pd\n",
    "with open('../datasets/transactions_collection.json', encoding='utf-8') as f:\n",
    "    data = json.load(f)\n",
    "df = pd.json_normalize(data['sample_documents'])\n",
    "df.head()"
   ]
  },
  {
   "cell_type": "code",
   "execution_count": 24,
   "id": "0a5c6a3b",
   "metadata": {},
   "outputs": [
    {
     "name": "stdout",
     "output_type": "stream",
     "text": [
      "[\n",
      "  {\n",
      "    \"Id\": \"DEV001\",\n",
      "    \"BranchCode\": \"PE240\",\n",
      "    \"ServicePoints\": [\n",
      "      {\n",
      "        \"ShipOutCycles\": [\n",
      "          {\n",
      "            \"SubChannelCode\": \"CH001\",\n",
      "            \"Code\": \"SO001\",\n",
      "            \"ConfirmationCode\": \"CONF001\",\n",
      "            \"Transactions\": [\n",
      "              {\n",
      "                \"Total\": 100.5,\n",
      "                \"CurrencyCode\": \"PEN\"\n",
      "              }\n",
      "            ]\n",
      "          }\n",
      "        ]\n",
      "      }\n",
      "    ]\n",
      "  }\n",
      "]\n"
     ]
    }
   ],
   "source": [
    "# Muestra la estructura interna de un registro de Devices para saber cómo aplanar\n",
    "import json\n",
    "print(json.dumps(df['Devices'].iloc[0], indent=2, ensure_ascii=False))"
   ]
  },
  {
   "cell_type": "code",
   "execution_count": 25,
   "id": "60fe9e43",
   "metadata": {},
   "outputs": [
    {
     "name": "stdout",
     "output_type": "stream",
     "text": [
      "Columnas del DataFrame aplanado:\n",
      "['Total', 'CurrencyCode', 'Date']\n"
     ]
    },
    {
     "data": {
      "text/html": [
       "<div>\n",
       "<style scoped>\n",
       "    .dataframe tbody tr th:only-of-type {\n",
       "        vertical-align: middle;\n",
       "    }\n",
       "\n",
       "    .dataframe tbody tr th {\n",
       "        vertical-align: top;\n",
       "    }\n",
       "\n",
       "    .dataframe thead th {\n",
       "        text-align: right;\n",
       "    }\n",
       "</style>\n",
       "<table border=\"1\" class=\"dataframe\">\n",
       "  <thead>\n",
       "    <tr style=\"text-align: right;\">\n",
       "      <th></th>\n",
       "      <th>Total</th>\n",
       "      <th>CurrencyCode</th>\n",
       "      <th>Date</th>\n",
       "    </tr>\n",
       "  </thead>\n",
       "  <tbody>\n",
       "    <tr>\n",
       "      <th>0</th>\n",
       "      <td>100.5</td>\n",
       "      <td>PEN</td>\n",
       "      <td>2024-01-15T10:30:00Z</td>\n",
       "    </tr>\n",
       "  </tbody>\n",
       "</table>\n",
       "</div>"
      ],
      "text/plain": [
       "   Total CurrencyCode                  Date\n",
       "0  100.5          PEN  2024-01-15T10:30:00Z"
      ]
     },
     "execution_count": 25,
     "metadata": {},
     "output_type": "execute_result"
    }
   ],
   "source": [
    "# Aplana la estructura de Devices para obtener los montos de transacción\n",
    "import pandas as pd\n",
    "import json\n",
    "with open('../datasets/transactions_collection.json', encoding='utf-8') as f:\n",
    "    data = json.load(f)\n",
    "\n",
    "# Ajusta el record_path y meta según la estructura que viste en la celda anterior\n",
    "df_flat = pd.json_normalize(\n",
    "    data['sample_documents'],\n",
    "    record_path=['Devices', 'ServicePoints', 'ShipOutCycles', 'Transactions'],\n",
    "    meta=['Date']\n",
    "    # Si necesitas más campos meta, agrégalos aquí\n",
    "    # meta=[...]\n",
    "    # errors='ignore' # puedes agregar esto si hay registros incompletos\n",
    "    # sep='.' # para nombres de columnas con puntos\n",
    "    # ...\n",
    "    )\n",
    "print('Columnas del DataFrame aplanado:')\n",
    "print(df_flat.columns.tolist())\n",
    "df_flat.head()"
   ]
  },
  {
   "cell_type": "code",
   "execution_count": 36,
   "id": "d6988911",
   "metadata": {},
   "outputs": [
    {
     "name": "stdout",
     "output_type": "stream",
     "text": [
      "count      1.0\n",
      "mean     100.5\n",
      "std        NaN\n",
      "min      100.5\n",
      "25%      100.5\n",
      "50%      100.5\n",
      "75%      100.5\n",
      "max      100.5\n",
      "Name: Total, dtype: float64\n"
     ]
    }
   ],
   "source": [
    "# Estadísticas descriptivas de montos de transacción (aplanado)\n",
    "import pandas as pd\n",
    "import json\n",
    "\n",
    "with open('../datasets/transactions_collection.json', encoding='utf-8') as f:\n",
    "    data = json.load(f)\n",
    "\n",
    "df_flat = pd.json_normalize(\n",
    "    data['sample_documents'],\n",
    "    record_path=['Devices', 'ServicePoints', 'ShipOutCycles', 'Transactions'],\n",
    "    meta=['Date']\n",
    "    # Si necesitas más campos meta, agrégalos aquí\n",
    "    # meta=[...]\n",
    "    # errors='ignore' # puedes agregar esto si hay registros incompletos\n",
    "    # sep='.' # para nombres de columnas con puntos\n",
    "    # ...\n",
    "    )\n",
    "\n",
    "if 'Total' in df_flat.columns:\n",
    "    print(df_flat['Total'].describe())\n",
    "else:\n",
    "    print('No se encontró la columna de montos de transacción.')"
   ]
  },
  {
   "cell_type": "code",
   "execution_count": 26,
   "id": "d59430b3",
   "metadata": {},
   "outputs": [
    {
     "name": "stdout",
     "output_type": "stream",
     "text": [
      "Columnas disponibles en el DataFrame:\n",
      "['Total', 'CurrencyCode', 'Date']\n"
     ]
    }
   ],
   "source": [
    "# Mostrar todas las columnas disponibles en el DataFrame para identificar el nombre correcto de la columna de montos\n",
    "print('Columnas disponibles en el DataFrame:')\n",
    "print(df_flat.columns.tolist())"
   ]
  },
  {
   "cell_type": "code",
   "execution_count": 27,
   "id": "18c6b9d9",
   "metadata": {},
   "outputs": [
    {
     "name": "stdout",
     "output_type": "stream",
     "text": [
      "Columnas del DataFrame aplanado:\n",
      "['Total', 'CurrencyCode', 'Date']\n"
     ]
    },
    {
     "data": {
      "text/html": [
       "<div>\n",
       "<style scoped>\n",
       "    .dataframe tbody tr th:only-of-type {\n",
       "        vertical-align: middle;\n",
       "    }\n",
       "\n",
       "    .dataframe tbody tr th {\n",
       "        vertical-align: top;\n",
       "    }\n",
       "\n",
       "    .dataframe thead th {\n",
       "        text-align: right;\n",
       "    }\n",
       "</style>\n",
       "<table border=\"1\" class=\"dataframe\">\n",
       "  <thead>\n",
       "    <tr style=\"text-align: right;\">\n",
       "      <th></th>\n",
       "      <th>Total</th>\n",
       "      <th>CurrencyCode</th>\n",
       "      <th>Date</th>\n",
       "    </tr>\n",
       "  </thead>\n",
       "  <tbody>\n",
       "    <tr>\n",
       "      <th>0</th>\n",
       "      <td>100.5</td>\n",
       "      <td>PEN</td>\n",
       "      <td>2024-01-15T10:30:00Z</td>\n",
       "    </tr>\n",
       "  </tbody>\n",
       "</table>\n",
       "</div>"
      ],
      "text/plain": [
       "   Total CurrencyCode                  Date\n",
       "0  100.5          PEN  2024-01-15T10:30:00Z"
      ]
     },
     "execution_count": 27,
     "metadata": {},
     "output_type": "execute_result"
    }
   ],
   "source": [
    "# Aplana la estructura de Devices para obtener los montos de transacción\n",
    "import pandas as pd\n",
    "import json\n",
    "with open('../datasets/transactions_collection.json', encoding='utf-8') as f:\n",
    "    data = json.load(f)\n",
    "\n",
    "# Ajusta el record_path y meta según la estructura que viste en la celda anterior\n",
    "df_flat = pd.json_normalize(\n",
    "    data['sample_documents'],\n",
    "    record_path=['Devices', 'ServicePoints', 'ShipOutCycles', 'Transactions'],\n",
    "    meta=['Date']\n",
    "    # Si necesitas más campos meta, agrégalos aquí\n",
    "    # meta=[...]\n",
    "    # errors='ignore' # puedes agregar esto si hay registros incompletos\n",
    "    # sep='.' # para nombres de columnas con puntos\n",
    "    # ...\n",
    "    )\n",
    "print('Columnas del DataFrame aplanado:')\n",
    "print(df_flat.columns.tolist())\n",
    "df_flat.head()"
   ]
  },
  {
   "cell_type": "markdown",
   "id": "2b60d83e",
   "metadata": {},
   "source": [
    "## Tabla resumen de desempeño y visualización central\n",
    "\n",
    "A continuación se muestra una tabla resumen de desempeño del agente NL→MongoDB y una gráfica central de cobertura semántica. Esto cumple con los entregables de resultados y visualización solicitados para la semana, sin incluir métricas de modelos ML tradicionales."
   ]
  },
  {
   "cell_type": "code",
   "execution_count": 28,
   "id": "697a122e",
   "metadata": {},
   "outputs": [
    {
     "name": "stdout",
     "output_type": "stream",
     "text": [
      "Campos y rutas detectadas:\n",
      "\n",
      "Sugerencias de sinónimos para alimentar al agente:\n"
     ]
    }
   ],
   "source": [
    "# EDA automático: rutas de campos y sugerencias de sinónimos para MongoDB\n",
    "import json\n",
    "from collections import defaultdict\n",
    "\n",
    "def flatten_keys(d, parent_key='', sep='.'):  # Recursivo para rutas anidadas\n",
    "    keys = set()\n",
    "    if isinstance(d, dict):\n",
    "        for k, v in d.items():\n",
    "            new_key = f\"{parent_key}{sep}{k}\" if parent_key else k\n",
    "            keys.add(new_key)\n",
    "            keys |= flatten_keys(v, new_key, sep=sep)\n",
    "    elif isinstance(d, list) and d:\n",
    "        for item in d:\n",
    "            keys |= flatten_keys(item, parent_key, sep=sep)\n",
    "    return keys\n",
    "\n",
    "# Carga el dataset\n",
    "with open('../datasets/transactions_collection.json', encoding='utf-8') as f:\n",
    "    data = json.load(f)\n",
    "\n",
    "# Detecta la lista principal\n",
    "main_list = None\n",
    "if isinstance(data, list):\n",
    "    main_list = data\n",
    "elif isinstance(data, dict):\n",
    "    for v in data.values():\n",
    "        if isinstance(v, list):\n",
    "            main_list = v\n",
    "            break\n",
    "\n",
    "# Extrae todas las rutas de campos\n",
    "all_keys = set()\n",
    "for item in main_list:\n",
    "    all_keys |= flatten_keys(item)\n",
    "\n",
    "# Sugerencia de sinónimos básicos\n",
    "synonyms = defaultdict(list)\n",
    "for key in all_keys:\n",
    "    base = key.split('.')[-1]\n",
    "    synonyms[base].append(key)\n",
    "    synonyms[base].append(base.lower())\n",
    "    synonyms[base].append(base.replace('_','').lower())\n",
    "    synonyms[base].append(base.replace('_',' ').lower())\n",
    "    synonyms[base].append(base.capitalize())\n",
    "    synonyms[base].append(base.upper())\n",
    "\n",
    "print('Campos y rutas detectadas:')\n",
    "for k in sorted(all_keys):\n",
    "    print('-', k)\n",
    "\n",
    "print('\\nSugerencias de sinónimos para alimentar al agente:')\n",
    "for base, syns in synonyms.items():\n",
    "    print(f'{base}: {sorted(set(syns))}')"
   ]
  },
  {
   "cell_type": "code",
   "execution_count": 123,
   "id": "0596e8ba",
   "metadata": {},
   "outputs": [
    {
     "name": "stdout",
     "output_type": "stream",
     "text": [
      "Diccionario de sinónimos listo para usar:\n",
      "{}\n"
     ]
    }
   ],
   "source": [
    "# Ejemplo de integración automática de sinónimos generados en un diccionario para el agente\n",
    "# (Puedes copiar el resultado y usarlo directamente en tu pipeline o clase SynonymMapper)\n",
    "\n",
    "import json\n",
    "from collections import defaultdict\n",
    "\n",
    "def flatten_keys(d, parent_key='', sep='.'):  # Recursivo para rutas anidadas\n",
    "    keys = set()\n",
    "    if isinstance(d, dict):\n",
    "        for k, v in d.items():\n",
    "            new_key = f\"{parent_key}{sep}{k}\" if parent_key else k\n",
    "            keys.add(new_key)\n",
    "            keys |= flatten_keys(v, new_key, sep=sep)\n",
    "    elif isinstance(d, list) and d:\n",
    "        for item in d:\n",
    "            keys |= flatten_keys(item, parent_key, sep=sep)\n",
    "    return keys\n",
    "\n",
    "# Carga el dataset\n",
    "with open('../datasets/transactions_collection.json', encoding='utf-8') as f:\n",
    "    data = json.load(f)\n",
    "\n",
    "# Detecta la lista principal\n",
    "main_list = None\n",
    "if isinstance(data, list):\n",
    "    main_list = data\n",
    "elif isinstance(data, dict):\n",
    "    for v in data.values():\n",
    "        if isinstance(v, list):\n",
    "            main_list = v\n",
    "            break\n",
    "\n",
    "# Extrae todas las rutas de campos\n",
    "all_keys = set()\n",
    "for item in main_list:\n",
    "    all_keys |= flatten_keys(item)\n",
    "\n",
    "# Sugerencia de sinónimos básicos\n",
    "synonyms = defaultdict(list)\n",
    "for key in all_keys:\n",
    "    base = key.split('.')[-1]\n",
    "    synonyms[base].append(key)\n",
    "    synonyms[base].append(base.lower())\n",
    "    synonyms[base].append(base.replace('_','').lower())\n",
    "    synonyms[base].append(base.replace('_',' ').lower())\n",
    "    synonyms[base].append(base.capitalize())\n",
    "    synonyms[base].append(base.upper())\n",
    "\n",
    "# Convierte el defaultdict a un diccionario normal y muestra el resultado listo para usar\n",
    "synonyms_dict = {k: list(set(v)) for k, v in synonyms.items()}\n",
    "\n",
    "print('Diccionario de sinónimos listo para usar:')\n",
    "import pprint\n",
    "pprint.pprint(synonyms_dict)"
   ]
  },
  {
   "cell_type": "code",
   "execution_count": 29,
   "id": "aad9f16e",
   "metadata": {},
   "outputs": [
    {
     "name": "stdout",
     "output_type": "stream",
     "text": [
      "Cobertura del agente sobre instrucciones esperadas: 60.00%\n",
      "Total de instrucciones esperadas: 5\n",
      "Resueltas correctamente: 3\n",
      "Fallos: 2\n",
      "\n",
      "Ejemplos de instrucciones fallidas:\n",
      "                        instruccion\n",
      "2   Une empleados con departamentos\n",
      "4  ¿Cuántos productos hay en stock?\n",
      "\n",
      "Ejemplos de instrucciones exitosas:\n",
      "                       instruccion\n",
      "0  Suma el total de ventas por mes\n",
      "1      Filtra los clientes de Lima\n",
      "3      Muestra el promedio de edad\n"
     ]
    }
   ],
   "source": [
    "# Ejemplo: Evaluación semántica del agente NL→MongoDB\n",
    "import pandas as pd\n",
    "import random\n",
    "\n",
    "# Simulación: lista de instrucciones y resultados del agente\n",
    "ejemplos = [\n",
    "    {\"instruccion\": \"Suma el total de ventas por mes\", \"esperado\": True, \"resultado\": True},\n",
    "    {\"instruccion\": \"Filtra los clientes de Lima\", \"esperado\": True, \"resultado\": True},\n",
    "    {\"instruccion\": \"Une empleados con departamentos\", \"esperado\": True, \"resultado\": False},\n",
    "    {\"instruccion\": \"Muestra el promedio de edad\", \"esperado\": True, \"resultado\": True},\n",
    "    {\"instruccion\": \"¿Cuántos productos hay en stock?\", \"esperado\": True, \"resultado\": False},\n",
    "    {\"instruccion\": \"Haz clustering de clientes\", \"esperado\": False, \"resultado\": False},\n",
    "    # ... agrega más ejemplos reales ...\n",
    "    ]\n",
    "\n",
    "df_eval = pd.DataFrame(ejemplos)\n",
    "df_eval['correcto'] = df_eval['esperado'] & df_eval['resultado']\n",
    "df_eval['fallo'] = df_eval['esperado'] & (~df_eval['resultado'])\n",
    "\n",
    "# Métricas de cobertura\n",
    "total = len(df_eval)\n",
    "resueltos = df_eval['correcto'].sum()\n",
    "fallos = df_eval['fallo'].sum()\n",
    "cobertura = resueltos / df_eval['esperado'].sum() if df_eval['esperado'].sum() > 0 else 0\n",
    "\n",
    "print(f\"Cobertura del agente sobre instrucciones esperadas: {cobertura:.2%}\")\n",
    "print(f\"Total de instrucciones esperadas: {df_eval['esperado'].sum()}\")\n",
    "print(f\"Resueltas correctamente: {resueltos}\")\n",
    "print(f\"Fallos: {fallos}\")\n",
    "\n",
    "print(\"\\nEjemplos de instrucciones fallidas:\")\n",
    "print(df_eval[df_eval['fallo']][['instruccion']])\n",
    "\n",
    "print(\"\\nEjemplos de instrucciones exitosas:\")\n",
    "print(df_eval[df_eval['correcto']][['instruccion']])"
   ]
  },
  {
   "cell_type": "code",
   "execution_count": 30,
   "id": "27ac84fe",
   "metadata": {},
   "outputs": [
    {
     "name": "stderr",
     "output_type": "stream",
     "text": [
      "C:\\Users\\antho\\AppData\\Local\\Temp\\ipykernel_43724\\61990093.py:10: FutureWarning: \n",
      "\n",
      "Passing `palette` without assigning `hue` is deprecated and will be removed in v0.14.0. Assign the `x` variable to `hue` and set `legend=False` for the same effect.\n",
      "\n",
      "  sns.barplot(data=conteo, x='caso', y='cantidad', palette='viridis')\n"
     ]
    },
    {
     "data": {
      "image/png": "[encoded data removed]",
      "text/plain": [
       "<Figure size 700x500 with 1 Axes>"
      ]
     },
     "metadata": {},
     "output_type": "display_data"
    },
    {
     "name": "stdout",
     "output_type": "stream",
     "text": [
      "Tabla resumen de desempeño:\n"
     ]
    },
    {
     "data": {
      "text/html": [
       "<div>\n",
       "<style scoped>\n",
       "    .dataframe tbody tr th:only-of-type {\n",
       "        vertical-align: middle;\n",
       "    }\n",
       "\n",
       "    .dataframe tbody tr th {\n",
       "        vertical-align: top;\n",
       "    }\n",
       "\n",
       "    .dataframe thead th {\n",
       "        text-align: right;\n",
       "    }\n",
       "</style>\n",
       "<table border=\"1\" class=\"dataframe\">\n",
       "  <thead>\n",
       "    <tr style=\"text-align: right;\">\n",
       "      <th>resultado</th>\n",
       "      <th>False</th>\n",
       "      <th>True</th>\n",
       "    </tr>\n",
       "    <tr>\n",
       "      <th>esperado</th>\n",
       "      <th></th>\n",
       "      <th></th>\n",
       "    </tr>\n",
       "  </thead>\n",
       "  <tbody>\n",
       "    <tr>\n",
       "      <th>False</th>\n",
       "      <td>1</td>\n",
       "      <td>0</td>\n",
       "    </tr>\n",
       "    <tr>\n",
       "      <th>True</th>\n",
       "      <td>2</td>\n",
       "      <td>3</td>\n",
       "    </tr>\n",
       "  </tbody>\n",
       "</table>\n",
       "</div>"
      ],
      "text/plain": [
       "resultado  False  True \n",
       "esperado               \n",
       "False          1      0\n",
       "True           2      3"
      ]
     },
     "metadata": {},
     "output_type": "display_data"
    }
   ],
   "source": [
    "# Visualización de resultados de cobertura semántica\n",
    "import matplotlib.pyplot as plt\n",
    "import seaborn as sns\n",
    "\n",
    "# Conteo de casos\n",
    "conteo = df_eval.groupby(['esperado','resultado']).size().reset_index(name='cantidad')\n",
    "conteo['caso'] = conteo.apply(lambda row: f\"Esperado={row['esperado']}, Resultado={row['resultado']}\", axis=1)\n",
    "\n",
    "plt.figure(figsize=(7,5))\n",
    "sns.barplot(data=conteo, x='caso', y='cantidad', palette='viridis')\n",
    "plt.title('Cobertura semántica del agente: casos de prueba', fontsize=14)\n",
    "plt.ylabel('Cantidad de instrucciones', fontsize=12)\n",
    "plt.xlabel('Caso (Esperado, Resultado)', fontsize=12)\n",
    "plt.xticks(rotation=20)\n",
    "plt.tight_layout()\n",
    "plt.show()\n",
    "\n",
    "# Tabla resumen de desempeño\n",
    "print('Tabla resumen de desempeño:')\n",
    "display(df_eval.groupby(['esperado','resultado']).size().unstack(fill_value=0))\n"
   ]
  },
  {
   "cell_type": "markdown",
   "id": "05206576",
   "metadata": {},
   "source": [
    "## 6. Cobertura semántica y evaluación del agente\n",
    "- Análisis de qué tipos de instrucciones el agente puede resolver correctamente y cuáles no.\n",
    "- Ejemplos de instrucciones exitosas y fallidas.\n",
    "- Métricas de cobertura: porcentaje de instrucciones resueltas, tipos de errores frecuentes.\n"
   ]
  },
  {
   "cell_type": "code",
   "execution_count": 31,
   "id": "14467148",
   "metadata": {},
   "outputs": [
    {
     "name": "stdout",
     "output_type": "stream",
     "text": [
      "Logs generados en ../logs/pipeline.log\n"
     ]
    }
   ],
   "source": [
    "# Ejemplo de integración de logging en el pipeline de análisis y generación de queries\n",
    "import logging\n",
    "import os\n",
    "\n",
    "# Configuración de logs\n",
    "os.makedirs('../logs', exist_ok=True)\n",
    "logging.basicConfig(\n",
    "    filename='../logs/pipeline.log',\n",
    "    level=logging.INFO,\n",
    "    format='%(asctime)s %(levelname)s %(message)s'\n",
    "    )\n",
    "\n",
    "logging.info('Inicio del análisis exploratorio y generación de queries')\n",
    "\n",
    "# Ejemplo de log en cada paso relevante\n",
    "logging.info('Carga y análisis de estructura del dataset completado')\n",
    "logging.info('Cobertura y diversidad de instrucciones analizadas')\n",
    "logging.info('Sinónimos normalizados y consulta traducida')\n",
    "logging.info('Evaluación semántica del agente realizada')\n",
    "\n",
    "print('Logs generados en ../logs/pipeline.log')"
   ]
  }
 ],
 "metadata": {
  "kernelspec": {
   "display_name": "Python 3",
   "language": "python",
   "name": "python3"
  },
  "language_info": {
   "codemirror_mode": {
    "name": "ipython",
    "version": 3
   },
   "file_extension": ".py",
   "mimetype": "text/x-python",
   "name": "python",
   "nbconvert_exporter": "python",
   "pygments_lexer": "ipython3",
   "version": "3.11.7"
  }
 },
 "nbformat": 4,
 "nbformat_minor": 5
}
