{
 "cells": [
  {
   "cell_type": "markdown",
   "id": "583643de",
   "metadata": {},
   "source": [
    "# EDA y Sinónimos para Queries MongoDB\n",
    "\n",
    "Este notebook demuestra cómo realizar un análisis exploratorio de datos (EDA) y cómo manejar sinónimos en la generación de queries MongoDB para cumplir los entregables de la semana 3."
   ]
  },
  {
   "cell_type": "code",
   "execution_count": 1,
   "id": "e4283560",
   "metadata": {},
   "outputs": [],
   "source": [
    "# 1. Importar librerías necesarias\n",
    "import pandas as pd\n",
    "import numpy as np\n",
    "import matplotlib.pyplot as plt\n",
    "import seaborn as sns\n",
    "from collections import defaultdict"
   ]
  },
  {
   "cell_type": "code",
   "execution_count": 2,
   "id": "514c5b1d",
   "metadata": {},
   "outputs": [],
   "source": [
    "# 2. Definir función o clase para manejo de sinónimos\n",
    "class SynonymMapper:\n",
    "    def __init__(self, operation_synonyms, field_synonyms):\n",
    "        self.operation_synonyms = operation_synonyms\n",
    "        self.field_synonyms = field_synonyms\n",
    "    \n",
    "    def normalize_operation(self, op):\n",
    "        op = op.lower()\n",
    "        for canonical, synonyms in self.operation_synonyms.items():\n",
    "            if op == canonical or op in synonyms:\n",
    "                return canonical\n",
    "        return op\n",
    "    \n",
    "    def normalize_field(self, field):\n",
    "        field = field.lower().replace(' ', '')\n",
    "        for canonical, synonyms in self.field_synonyms.items():\n",
    "            if field == canonical.lower() or field in [s.replace(' ', '') for s in synonyms]:\n",
    "                return canonical\n",
    "        return field"
   ]
  },
  {
   "cell_type": "code",
   "execution_count": 3,
   "id": "049cc0ca",
   "metadata": {},
   "outputs": [],
   "source": [
    "# 3. Ejemplo de mapeo de sinónimos de operaciones\n",
    "operation_synonyms = {\n",
    "    'sum': ['suma', 'sumar', 'adicionar'],\n",
    "    'group': ['agrupar', 'group by', 'agrupar por'],\n",
    "    'project': ['proyectar', 'seleccionar', 'mostrar'],\n",
    "    'sort': ['ordenar', 'ordenar por', 'sort'],\n",
    "    'join': ['une', 'unir', 'join', 'fusionar', 'combinar']\n",
    "}\n",
    "\n",
    "# 4. Ejemplo de mapeo de sinónimos de campos\n",
    "field_synonyms = {\n",
    "    'nombre': ['name', 'nombres', 'nombre'],\n",
    "    'apellido': ['surname', 'apellidos', 'apellido'],\n",
    "    'departamento_id': ['departamentoid', 'id_departamento', 'departamento_id'],\n",
    "    'departamento_nombre': ['departamento', 'nombre_departamento', 'departamento_nombre']\n",
    "}"
   ]
  },
  {
   "cell_type": "code",
   "execution_count": 4,
   "id": "7eea6f60",
   "metadata": {},
   "outputs": [
    {
     "name": "stdout",
     "output_type": "stream",
     "text": [
      "Operación normalizada: join\n",
      "Campos normalizados: nombre, apellido, departamento_nombre\n"
     ]
    }
   ],
   "source": [
    "# 5. Normalización de texto usando sinónimos\n",
    "syn_mapper = SynonymMapper(operation_synonyms, field_synonyms)\n",
    "\n",
    "consulta_natural = \"une la colección empleados con la colección departamentos usando el campo departamento_id y proyecta los campos nombre, apellido, departamento_nombre\"\n",
    "\n",
    "# Normalizar operaciones y campos\n",
    "operacion = syn_mapper.normalize_operation('une')\n",
    "campo1 = syn_mapper.normalize_field('nombre')\n",
    "campo2 = syn_mapper.normalize_field('apellido')\n",
    "campo3 = syn_mapper.normalize_field('departamento_nombre')\n",
    "\n",
    "print(f\"Operación normalizada: {operacion}\")\n",
    "print(f\"Campos normalizados: {campo1}, {campo2}, {campo3}\")"
   ]
  },
  {
   "cell_type": "code",
   "execution_count": 5,
   "id": "28f306a1",
   "metadata": {},
   "outputs": [
    {
     "name": "stdout",
     "output_type": "stream",
     "text": [
      "Consulta traducida a forma canónica:\n",
      "{'operacion': 'join', 'coleccion_local': 'empleados', 'coleccion_foranea': 'departamentos', 'campo_join': 'departamento_id', 'proyeccion': ['nombre', 'apellido', 'departamento_nombre']}\n"
     ]
    }
   ],
   "source": [
    "# 6. Validación de sinónimos en consulta de ejemplo\n",
    "# Simulación de traducción de consulta natural a pipeline canónico\n",
    "consulta = {\n",
    "    'operacion': syn_mapper.normalize_operation('une'),\n",
    "    'coleccion_local': 'empleados',\n",
    "    'coleccion_foranea': 'departamentos',\n",
    "    'campo_join': syn_mapper.normalize_field('departamento_id'),\n",
    "    'proyeccion': [\n",
    "        syn_mapper.normalize_field('nombre'),\n",
    "        syn_mapper.normalize_field('apellido'),\n",
    "        syn_mapper.normalize_field('departamento_nombre')\n",
    "    ]\n",
    "}\n",
    "\n",
    "print(\"Consulta traducida a forma canónica:\")\n",
    "print(consulta)"
   ]
  },
  {
   "cell_type": "markdown",
   "id": "5cb79789",
   "metadata": {},
   "source": [
    "# Análisis Exploratorio de Datos (EDA) sobre `transactions_collection`\n",
    "En esta sección se realiza un análisis exploratorio real sobre la colección principal, mostrando estadísticas descriptivas y visualizaciones clave."
   ]
  },
  {
   "cell_type": "code",
   "execution_count": 6,
   "id": "3ace4713",
   "metadata": {},
   "outputs": [
    {
     "data": {
      "text/html": [
       "<div>\n",
       "<style scoped>\n",
       "    .dataframe tbody tr th:only-of-type {\n",
       "        vertical-align: middle;\n",
       "    }\n",
       "\n",
       "    .dataframe tbody tr th {\n",
       "        vertical-align: top;\n",
       "    }\n",
       "\n",
       "    .dataframe thead th {\n",
       "        text-align: right;\n",
       "    }\n",
       "</style>\n",
       "<table border=\"1\" class=\"dataframe\">\n",
       "  <thead>\n",
       "    <tr style=\"text-align: right;\">\n",
       "      <th></th>\n",
       "      <th>Date</th>\n",
       "      <th>Devices</th>\n",
       "    </tr>\n",
       "  </thead>\n",
       "  <tbody>\n",
       "    <tr>\n",
       "      <th>0</th>\n",
       "      <td>2024-01-15T10:30:00Z</td>\n",
       "      <td>[{'Id': 'DEV001', 'BranchCode': 'PE240', 'Serv...</td>\n",
       "    </tr>\n",
       "  </tbody>\n",
       "</table>\n",
       "</div>"
      ],
      "text/plain": [
       "                   Date                                            Devices\n",
       "0  2024-01-15T10:30:00Z  [{'Id': 'DEV001', 'BranchCode': 'PE240', 'Serv..."
      ]
     },
     "execution_count": 6,
     "metadata": {},
     "output_type": "execute_result"
    }
   ],
   "source": [
    "# Cargar datos de ejemplo de transactions_collection\n",
    "import json\n",
    "import pandas as pd\n",
    "with open('../datasets/transactions_collection.json', encoding='utf-8') as f:\n",
    "    data = json.load(f)\n",
    "df = pd.json_normalize(data['sample_documents'])\n",
    "df.head()"
   ]
  },
  {
   "cell_type": "code",
   "execution_count": 7,
   "id": "d6988911",
   "metadata": {},
   "outputs": [
    {
     "name": "stdout",
     "output_type": "stream",
     "text": [
      "No se encontró la columna de montos de transacción.\n"
     ]
    }
   ],
   "source": [
    "# Estadísticas descriptivas de montos de transacción\n",
    "if 'Devices.ServicePoints.ShipOutCycles.Transactions.Total' in df.columns:\n",
    "    print(df['Devices.ServicePoints.ShipOutCycles.Transactions.Total'].describe())\n",
    "else:\n",
    "    print('No se encontró la columna de montos de transacción.')"
   ]
  },
  {
   "cell_type": "code",
   "execution_count": 8,
   "id": "4b52eb54",
   "metadata": {},
   "outputs": [
    {
     "name": "stdout",
     "output_type": "stream",
     "text": [
      "No se encontró la columna de montos de transacción.\n"
     ]
    }
   ],
   "source": [
    "# Visualización: Histograma de montos de transacción\n",
    "import matplotlib.pyplot as plt\n",
    "if 'Devices.ServicePoints.ShipOutCycles.Transactions.Total' in df.columns:\n",
    "    plt.hist(df['Devices.ServicePoints.ShipOutCycles.Transactions.Total'].dropna(), bins=10, color='skyblue')\n",
    "    plt.xlabel('Monto de Transacción')\n",
    "    plt.ylabel('Frecuencia')\n",
    "    plt.title('Distribución de Montos de Transacción')\n",
    "    plt.show()\n",
    "else:\n",
    "    print('No se encontró la columna de montos de transacción.')"
   ]
  }
 ],
 "metadata": {
  "kernelspec": {
   "display_name": "Python 3",
   "language": "python",
   "name": "python3"
  },
  "language_info": {
   "codemirror_mode": {
    "name": "ipython",
    "version": 3
   },
   "file_extension": ".py",
   "mimetype": "text/x-python",
   "name": "python",
   "nbconvert_exporter": "python",
   "pygments_lexer": "ipython3",
   "version": "3.11.7"
  }
 },
 "nbformat": 4,
 "nbformat_minor": 5
}
