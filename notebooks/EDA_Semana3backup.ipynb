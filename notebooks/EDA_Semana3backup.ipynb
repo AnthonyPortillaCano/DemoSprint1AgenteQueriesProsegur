{
 "cells": [
  {
   "cell_type": "markdown",
   "id": "583643de",
   "metadata": {},
   "source": [
    "# EDA y Sinónimos para Queries MongoDB\n",
    "\n",
    "Este notebook demuestra cómo realizar un análisis exploratorio de datos (EDA) y cómo manejar sinónimos en la generación de queries MongoDB para cumplir los entregables de la semana 3."
   ]
  },
  {
   "cell_type": "code",
   "execution_count": 32,
   "id": "e4283560",
   "metadata": {},
   "outputs": [],
   "source": [
    "# 1. Importar librerías necesarias\n",
    "import pandas as pd\n",
    "import numpy as np\n",
    "import matplotlib.pyplot as plt\n",
    "import seaborn as sns\n",
    "from collections import defaultdict"
   ]
  },
  {
   "cell_type": "code",
   "execution_count": 33,
   "id": "514c5b1d",
   "metadata": {},
   "outputs": [],
   "source": [
    "# 2. Definir función o clase para manejo de sinónimos\n",
    "class SynonymMapper:\n",
    "    def __init__(self, operation_synonyms, field_synonyms):\n",
    "        self.operation_synonyms = operation_synonyms\n",
    "        self.field_synonyms = field_synonyms\n",
    "    \n",
    "    def normalize_operation(self, op):\n",
    "        op = op.lower()\n",
    "        for canonical, synonyms in self.operation_synonyms.items():\n",
    "            if op == canonical or op in synonyms:\n",
    "                return canonical\n",
    "        return op\n",
    "    \n",
    "    def normalize_field(self, field):\n",
    "        field = field.lower().replace(' ', '')\n",
    "        for canonical, synonyms in self.field_synonyms.items():\n",
    "            if field == canonical.lower() or field in [s.replace(' ', '') for s in synonyms]:\n",
    "                return canonical\n",
    "        return field"
   ]
  },
  {
   "cell_type": "code",
   "execution_count": 34,
   "id": "049cc0ca",
   "metadata": {},
   "outputs": [],
   "source": [
    "# 3. Ejemplo de mapeo de sinónimos de operaciones\n",
    "operation_synonyms = {\n",
    "    'sum': ['suma', 'sumar', 'adicionar'],\n",
    "    'group': ['agrupar', 'group by', 'agrupar por'],\n",
    "    'project': ['proyectar', 'seleccionar', 'mostrar'],\n",
    "    'sort': ['ordenar', 'ordenar por', 'sort'],\n",
    "    'join': ['une', 'unir', 'join', 'fusionar', 'combinar']\n",
    "}\n",
    "\n",
    "# 4. Ejemplo de mapeo de sinónimos de campos\n",
    "field_synonyms = {\n",
    "    'nombre': ['name', 'nombres', 'nombre'],\n",
    "    'apellido': ['surname', 'apellidos', 'apellido'],\n",
    "    'departamento_id': ['departamentoid', 'id_departamento', 'departamento_id'],\n",
    "    'departamento_nombre': ['departamento', 'nombre_departamento', 'departamento_nombre']\n",
    "}"
   ]
  },
  {
   "cell_type": "code",
   "execution_count": 35,
   "id": "7eea6f60",
   "metadata": {},
   "outputs": [
    {
     "name": "stdout",
     "output_type": "stream",
     "text": [
      "Operación normalizada: join\n",
      "Campos normalizados: nombre, apellido, departamento_nombre\n"
     ]
    }
   ],
   "source": [
    "# 5. Normalización de texto usando sinónimos\n",
    "syn_mapper = SynonymMapper(operation_synonyms, field_synonyms)\n",
    "\n",
    "consulta_natural = \"une la colección empleados con la colección departamentos usando el campo departamento_id y proyecta los campos nombre, apellido, departamento_nombre\"\n",
    "\n",
    "# Normalizar operaciones y campos\n",
    "operacion = syn_mapper.normalize_operation('une')\n",
    "campo1 = syn_mapper.normalize_field('nombre')\n",
    "campo2 = syn_mapper.normalize_field('apellido')\n",
    "campo3 = syn_mapper.normalize_field('departamento_nombre')\n",
    "\n",
    "print(f\"Operación normalizada: {operacion}\")\n",
    "print(f\"Campos normalizados: {campo1}, {campo2}, {campo3}\")"
   ]
  },
  {
   "cell_type": "code",
   "execution_count": 36,
   "id": "28f306a1",
   "metadata": {},
   "outputs": [
    {
     "name": "stdout",
     "output_type": "stream",
     "text": [
      "Consulta traducida a forma canónica:\n",
      "{'operacion': 'join', 'coleccion_local': 'empleados', 'coleccion_foranea': 'departamentos', 'campo_join': 'departamento_id', 'proyeccion': ['nombre', 'apellido', 'departamento_nombre']}\n"
     ]
    }
   ],
   "source": [
    "# 6. Validación de sinónimos en consulta de ejemplo\n",
    "# Simulación de traducción de consulta natural a pipeline canónico\n",
    "consulta = {\n",
    "    'operacion': syn_mapper.normalize_operation('une'),\n",
    "    'coleccion_local': 'empleados',\n",
    "    'coleccion_foranea': 'departamentos',\n",
    "    'campo_join': syn_mapper.normalize_field('departamento_id'),\n",
    "    'proyeccion': [\n",
    "        syn_mapper.normalize_field('nombre'),\n",
    "        syn_mapper.normalize_field('apellido'),\n",
    "        syn_mapper.normalize_field('departamento_nombre')\n",
    "    ]\n",
    "}\n",
    "\n",
    "print(\"Consulta traducida a forma canónica:\")\n",
    "print(consulta)"
   ]
  },
  {
   "cell_type": "markdown",
   "id": "5cb79789",
   "metadata": {},
   "source": [
    "# Análisis Exploratorio de Datos (EDA) sobre `transactions_collection`\n",
    "En esta sección se realiza un análisis exploratorio real sobre la colección principal, mostrando estadísticas descriptivas y visualizaciones clave."
   ]
  },
  {
   "cell_type": "code",
   "execution_count": 61,
   "id": "3ace4713",
   "metadata": {},
   "outputs": [
    {
     "data": {
      "text/html": [
       "<div>\n",
       "<style scoped>\n",
       "    .dataframe tbody tr th:only-of-type {\n",
       "        vertical-align: middle;\n",
       "    }\n",
       "\n",
       "    .dataframe tbody tr th {\n",
       "        vertical-align: top;\n",
       "    }\n",
       "\n",
       "    .dataframe thead th {\n",
       "        text-align: right;\n",
       "    }\n",
       "</style>\n",
       "<table border=\"1\" class=\"dataframe\">\n",
       "  <thead>\n",
       "    <tr style=\"text-align: right;\">\n",
       "      <th></th>\n",
       "      <th>Date</th>\n",
       "      <th>Devices</th>\n",
       "    </tr>\n",
       "  </thead>\n",
       "  <tbody>\n",
       "    <tr>\n",
       "      <th>0</th>\n",
       "      <td>2024-01-15T10:30:00Z</td>\n",
       "      <td>[{'Id': 'DEV001', 'BranchCode': 'PE240', 'Serv...</td>\n",
       "    </tr>\n",
       "  </tbody>\n",
       "</table>\n",
       "</div>"
      ],
      "text/plain": [
       "                   Date                                            Devices\n",
       "0  2024-01-15T10:30:00Z  [{'Id': 'DEV001', 'BranchCode': 'PE240', 'Serv..."
      ]
     },
     "execution_count": 61,
     "metadata": {},
     "output_type": "execute_result"
    }
   ],
   "source": [
    "# Cargar datos de ejemplo de transactions_collection\n",
    "import json\n",
    "import pandas as pd\n",
    "with open('../datasets/transactions_collection.json', encoding='utf-8') as f:\n",
    "    data = json.load(f)\n",
    "df = pd.json_normalize(data['sample_documents'])\n",
    "df.head()"
   ]
  },
  {
   "cell_type": "code",
   "execution_count": 62,
   "id": "0a5c6a3b",
   "metadata": {},
   "outputs": [
    {
     "name": "stdout",
     "output_type": "stream",
     "text": [
      "[\n",
      "  {\n",
      "    \"Id\": \"DEV001\",\n",
      "    \"BranchCode\": \"PE240\",\n",
      "    \"ServicePoints\": [\n",
      "      {\n",
      "        \"ShipOutCycles\": [\n",
      "          {\n",
      "            \"SubChannelCode\": \"CH001\",\n",
      "            \"Code\": \"SO001\",\n",
      "            \"ConfirmationCode\": \"CONF001\",\n",
      "            \"Transactions\": [\n",
      "              {\n",
      "                \"Total\": 100.5,\n",
      "                \"CurrencyCode\": \"PEN\"\n",
      "              }\n",
      "            ]\n",
      "          }\n",
      "        ]\n",
      "      }\n",
      "    ]\n",
      "  }\n",
      "]\n"
     ]
    }
   ],
   "source": [
    "# Muestra la estructura interna de un registro de Devices para saber cómo aplanar\n",
    "import json\n",
    "print(json.dumps(df['Devices'].iloc[0], indent=2, ensure_ascii=False))"
   ]
  },
  {
   "cell_type": "code",
   "execution_count": 63,
   "id": "60fe9e43",
   "metadata": {},
   "outputs": [
    {
     "name": "stdout",
     "output_type": "stream",
     "text": [
      "Columnas del DataFrame aplanado:\n",
      "['Total', 'CurrencyCode', 'Date']\n"
     ]
    },
    {
     "data": {
      "text/html": [
       "<div>\n",
       "<style scoped>\n",
       "    .dataframe tbody tr th:only-of-type {\n",
       "        vertical-align: middle;\n",
       "    }\n",
       "\n",
       "    .dataframe tbody tr th {\n",
       "        vertical-align: top;\n",
       "    }\n",
       "\n",
       "    .dataframe thead th {\n",
       "        text-align: right;\n",
       "    }\n",
       "</style>\n",
       "<table border=\"1\" class=\"dataframe\">\n",
       "  <thead>\n",
       "    <tr style=\"text-align: right;\">\n",
       "      <th></th>\n",
       "      <th>Total</th>\n",
       "      <th>CurrencyCode</th>\n",
       "      <th>Date</th>\n",
       "    </tr>\n",
       "  </thead>\n",
       "  <tbody>\n",
       "    <tr>\n",
       "      <th>0</th>\n",
       "      <td>100.5</td>\n",
       "      <td>PEN</td>\n",
       "      <td>2024-01-15T10:30:00Z</td>\n",
       "    </tr>\n",
       "  </tbody>\n",
       "</table>\n",
       "</div>"
      ],
      "text/plain": [
       "   Total CurrencyCode                  Date\n",
       "0  100.5          PEN  2024-01-15T10:30:00Z"
      ]
     },
     "execution_count": 63,
     "metadata": {},
     "output_type": "execute_result"
    }
   ],
   "source": [
    "# Aplana la estructura de Devices para obtener los montos de transacción\n",
    "import pandas as pd\n",
    "import json\n",
    "with open('../datasets/transactions_collection.json', encoding='utf-8') as f:\n",
    "    data = json.load(f)\n",
    "\n",
    "# Ajusta el record_path y meta según la estructura que viste en la celda anterior\n",
    "df_flat = pd.json_normalize(\n",
    "    data['sample_documents'],\n",
    "    record_path=['Devices', 'ServicePoints', 'ShipOutCycles', 'Transactions'],\n",
    "    meta=['Date']\n",
    "    # Si necesitas más campos meta, agrégalos aquí\n",
    "    # meta=[...]\n",
    "    # errors='ignore' # puedes agregar esto si hay registros incompletos\n",
    "    # sep='.' # para nombres de columnas con puntos\n",
    "    # ...\n",
    "    )\n",
    "print('Columnas del DataFrame aplanado:')\n",
    "print(df_flat.columns.tolist())\n",
    "df_flat.head()"
   ]
  },
  {
   "cell_type": "code",
   "execution_count": 64,
   "id": "d6988911",
   "metadata": {},
   "outputs": [
    {
     "name": "stdout",
     "output_type": "stream",
     "text": [
      "No se encontró la columna de montos de transacción.\n"
     ]
    }
   ],
   "source": [
    "# Estadísticas descriptivas de montos de transacción\n",
    "if 'Devices.ServicePoints.ShipOutCycles.Transactions.Total' in df.columns:\n",
    "    print(df['Devices.ServicePoints.ShipOutCycles.Transactions.Total'].describe())\n",
    "else:\n",
    "    print('No se encontró la columna de montos de transacción.')"
   ]
  },
  {
   "cell_type": "code",
   "execution_count": 65,
   "id": "d59430b3",
   "metadata": {},
   "outputs": [
    {
     "name": "stdout",
     "output_type": "stream",
     "text": [
      "Columnas disponibles en el DataFrame:\n",
      "['Total', 'CurrencyCode', 'Date']\n"
     ]
    }
   ],
   "source": [
    "# Mostrar todas las columnas disponibles en el DataFrame para identificar el nombre correcto de la columna de montos\n",
    "print('Columnas disponibles en el DataFrame:')\n",
    "print(df_flat.columns.tolist())"
   ]
  },
  {
   "cell_type": "code",
   "execution_count": 66,
   "id": "18c6b9d9",
   "metadata": {},
   "outputs": [
    {
     "name": "stdout",
     "output_type": "stream",
     "text": [
      "Columnas del DataFrame aplanado:\n",
      "['Total', 'CurrencyCode', 'Date']\n"
     ]
    },
    {
     "data": {
      "text/html": [
       "<div>\n",
       "<style scoped>\n",
       "    .dataframe tbody tr th:only-of-type {\n",
       "        vertical-align: middle;\n",
       "    }\n",
       "\n",
       "    .dataframe tbody tr th {\n",
       "        vertical-align: top;\n",
       "    }\n",
       "\n",
       "    .dataframe thead th {\n",
       "        text-align: right;\n",
       "    }\n",
       "</style>\n",
       "<table border=\"1\" class=\"dataframe\">\n",
       "  <thead>\n",
       "    <tr style=\"text-align: right;\">\n",
       "      <th></th>\n",
       "      <th>Total</th>\n",
       "      <th>CurrencyCode</th>\n",
       "      <th>Date</th>\n",
       "    </tr>\n",
       "  </thead>\n",
       "  <tbody>\n",
       "    <tr>\n",
       "      <th>0</th>\n",
       "      <td>100.5</td>\n",
       "      <td>PEN</td>\n",
       "      <td>2024-01-15T10:30:00Z</td>\n",
       "    </tr>\n",
       "  </tbody>\n",
       "</table>\n",
       "</div>"
      ],
      "text/plain": [
       "   Total CurrencyCode                  Date\n",
       "0  100.5          PEN  2024-01-15T10:30:00Z"
      ]
     },
     "execution_count": 66,
     "metadata": {},
     "output_type": "execute_result"
    }
   ],
   "source": [
    "# Aplana la estructura de Devices para obtener los montos de transacción\n",
    "import pandas as pd\n",
    "import json\n",
    "with open('../datasets/transactions_collection.json', encoding='utf-8') as f:\n",
    "    data = json.load(f)\n",
    "\n",
    "# Ajusta el record_path y meta según la estructura que viste en la celda anterior\n",
    "df_flat = pd.json_normalize(\n",
    "    data['sample_documents'],\n",
    "    record_path=['Devices', 'ServicePoints', 'ShipOutCycles', 'Transactions'],\n",
    "    meta=['Date']\n",
    "    # Si necesitas más campos meta, agrégalos aquí\n",
    "    # meta=[...]\n",
    "    # errors='ignore' # puedes agregar esto si hay registros incompletos\n",
    "    # sep='.' # para nombres de columnas con puntos\n",
    "    # ...\n",
    "    )\n",
    "print('Columnas del DataFrame aplanado:')\n",
    "print(df_flat.columns.tolist())\n",
    "df_flat.head()"
   ]
  },
  {
   "cell_type": "markdown",
   "id": "2b60d83e",
   "metadata": {},
   "source": [
    "## Tabla resumen de métricas y visualización central del baseline\n",
    "A continuación se muestra una tabla resumen de métricas del modelo baseline y una gráfica central de desempeño. Esto cumple con los entregables de resultados y visualización solicitados para la semana."
   ]
  },
  {
   "cell_type": "code",
   "execution_count": 67,
   "id": "18051caf",
   "metadata": {},
   "outputs": [
    {
     "name": "stdout",
     "output_type": "stream",
     "text": [
      "No se encontró la columna de montos de transacción para baseline.\n"
     ]
    }
   ],
   "source": [
    "# Baseline simple: Clasificación binaria (ejemplo con variable ficticia 'es_alto_monto')\n",
    "from sklearn.model_selection import train_test_split\n",
    "from sklearn.dummy import DummyClassifier\n",
    "from sklearn.metrics import accuracy_score, f1_score, confusion_matrix, ConfusionMatrixDisplay\n",
    "import matplotlib.pyplot as plt\n",
    "\n",
    "# Creamos una variable binaria de ejemplo para baseline\n",
    "if 'Devices.ServicePoints.ShipOutCycles.Transactions.Total' in df.columns:\n",
    "    df['es_alto_monto'] = (df['Devices.ServicePoints.ShipOutCycles.Transactions.Total'] > df['Devices.ServicePoints.ShipOutCycles.Transactions.Total'].median()).astype(int)\n",
    "    X = df[['Devices.ServicePoints.ShipOutCycles.Transactions.Total']].fillna(0)\n",
    "    y = df['es_alto_monto']\n",
    "    X_train, X_test, y_train, y_test = train_test_split(X, y, test_size=0.3, random_state=42)\n",
    "    \n",
    "    # Baseline: clasificador dummy (estrategia más frecuente)\n",
    "    dummy = DummyClassifier(strategy='most_frequent')\n",
    "    dummy.fit(X_train, y_train)\n",
    "    y_pred = dummy.predict(X_test)\n",
    "    \n",
    "    acc = accuracy_score(y_test, y_pred)\n",
    "    f1 = f1_score(y_test, y_pred)\n",
    "    print('Métricas del baseline:')\n",
    "    print(f'Accuracy: {acc:.2f}')\n",
    "    print(f'F1 Score: {f1:.2f}')\n",
    "    \n",
    "    # Matriz de confusión\n",
    "    cm = confusion_matrix(y_test, y_pred)\n",
    "    disp = ConfusionMatrixDisplay(confusion_matrix=cm)\n",
    "    disp.plot()\n",
    "    plt.title('Matriz de confusión del baseline')\n",
    "    plt.show()\n",
    "else:\n",
    "    print('No se encontró la columna de montos de transacción para baseline.')"
   ]
  },
  {
   "cell_type": "code",
   "execution_count": 68,
   "id": "4b52eb54",
   "metadata": {},
   "outputs": [
    {
     "name": "stdout",
     "output_type": "stream",
     "text": [
      "No se encontró la columna de montos de transacción.\n"
     ]
    }
   ],
   "source": [
    "# Visualización: Histograma de montos de transacción\n",
    "import matplotlib.pyplot as plt\n",
    "if 'Devices.ServicePoints.ShipOutCycles.Transactions.Total' in df.columns:\n",
    "    plt.hist(df['Devices.ServicePoints.ShipOutCycles.Transactions.Total'].dropna(), bins=10, color='skyblue')\n",
    "    plt.xlabel('Monto de Transacción')\n",
    "    plt.ylabel('Frecuencia')\n",
    "    plt.title('Distribución de Montos de Transacción')\n",
    "    plt.show()\n",
    "else:\n",
    "    print('No se encontró la columna de montos de transacción.')"
   ]
  },
  {
   "cell_type": "code",
   "execution_count": 69,
   "id": "697a122e",
   "metadata": {},
   "outputs": [
    {
     "name": "stdout",
     "output_type": "stream",
     "text": [
      "Campos y rutas detectadas:\n",
      "\n",
      "Sugerencias de sinónimos para alimentar al agente:\n"
     ]
    }
   ],
   "source": [
    "# EDA automático: rutas de campos y sugerencias de sinónimos para MongoDB\n",
    "import json\n",
    "from collections import defaultdict\n",
    "\n",
    "def flatten_keys(d, parent_key='', sep='.'):  # Recursivo para rutas anidadas\n",
    "    keys = set()\n",
    "    if isinstance(d, dict):\n",
    "        for k, v in d.items():\n",
    "            new_key = f\"{parent_key}{sep}{k}\" if parent_key else k\n",
    "            keys.add(new_key)\n",
    "            keys |= flatten_keys(v, new_key, sep=sep)\n",
    "    elif isinstance(d, list) and d:\n",
    "        for item in d:\n",
    "            keys |= flatten_keys(item, parent_key, sep=sep)\n",
    "    return keys\n",
    "\n",
    "# Carga el dataset\n",
    "with open('../datasets/transactions_collection.json', encoding='utf-8') as f:\n",
    "    data = json.load(f)\n",
    "\n",
    "# Detecta la lista principal\n",
    "main_list = None\n",
    "if isinstance(data, list):\n",
    "    main_list = data\n",
    "elif isinstance(data, dict):\n",
    "    for v in data.values():\n",
    "        if isinstance(v, list):\n",
    "            main_list = v\n",
    "            break\n",
    "\n",
    "# Extrae todas las rutas de campos\n",
    "all_keys = set()\n",
    "for item in main_list:\n",
    "    all_keys |= flatten_keys(item)\n",
    "\n",
    "# Sugerencia de sinónimos básicos\n",
    "synonyms = defaultdict(list)\n",
    "for key in all_keys:\n",
    "    base = key.split('.')[-1]\n",
    "    synonyms[base].append(key)\n",
    "    synonyms[base].append(base.lower())\n",
    "    synonyms[base].append(base.replace('_','').lower())\n",
    "    synonyms[base].append(base.replace('_',' ').lower())\n",
    "    synonyms[base].append(base.capitalize())\n",
    "    synonyms[base].append(base.upper())\n",
    "\n",
    "print('Campos y rutas detectadas:')\n",
    "for k in sorted(all_keys):\n",
    "    print('-', k)\n",
    "\n",
    "print('\\nSugerencias de sinónimos para alimentar al agente:')\n",
    "for base, syns in synonyms.items():\n",
    "    print(f'{base}: {sorted(set(syns))}')"
   ]
  },
  {
   "cell_type": "code",
   "execution_count": 70,
   "id": "0596e8ba",
   "metadata": {},
   "outputs": [
    {
     "name": "stdout",
     "output_type": "stream",
     "text": [
      "Diccionario de sinónimos listo para usar:\n",
      "{}\n"
     ]
    }
   ],
   "source": [
    "# Ejemplo de integración automática de sinónimos generados en un diccionario para el agente\n",
    "# (Puedes copiar el resultado y usarlo directamente en tu pipeline o clase SynonymMapper)\n",
    "\n",
    "import json\n",
    "from collections import defaultdict\n",
    "\n",
    "def flatten_keys(d, parent_key='', sep='.'):  # Recursivo para rutas anidadas\n",
    "    keys = set()\n",
    "    if isinstance(d, dict):\n",
    "        for k, v in d.items():\n",
    "            new_key = f\"{parent_key}{sep}{k}\" if parent_key else k\n",
    "            keys.add(new_key)\n",
    "            keys |= flatten_keys(v, new_key, sep=sep)\n",
    "    elif isinstance(d, list) and d:\n",
    "        for item in d:\n",
    "            keys |= flatten_keys(item, parent_key, sep=sep)\n",
    "    return keys\n",
    "\n",
    "# Carga el dataset\n",
    "with open('../datasets/transactions_collection.json', encoding='utf-8') as f:\n",
    "    data = json.load(f)\n",
    "\n",
    "# Detecta la lista principal\n",
    "main_list = None\n",
    "if isinstance(data, list):\n",
    "    main_list = data\n",
    "elif isinstance(data, dict):\n",
    "    for v in data.values():\n",
    "        if isinstance(v, list):\n",
    "            main_list = v\n",
    "            break\n",
    "\n",
    "# Extrae todas las rutas de campos\n",
    "all_keys = set()\n",
    "for item in main_list:\n",
    "    all_keys |= flatten_keys(item)\n",
    "\n",
    "# Sugerencia de sinónimos básicos\n",
    "synonyms = defaultdict(list)\n",
    "for key in all_keys:\n",
    "    base = key.split('.')[-1]\n",
    "    synonyms[base].append(key)\n",
    "    synonyms[base].append(base.lower())\n",
    "    synonyms[base].append(base.replace('_','').lower())\n",
    "    synonyms[base].append(base.replace('_',' ').lower())\n",
    "    synonyms[base].append(base.capitalize())\n",
    "    synonyms[base].append(base.upper())\n",
    "\n",
    "# Convierte el defaultdict a un diccionario normal y muestra el resultado listo para usar\n",
    "synonyms_dict = {k: list(set(v)) for k, v in synonyms.items()}\n",
    "\n",
    "print('Diccionario de sinónimos listo para usar:')\n",
    "import pprint\n",
    "pprint.pprint(synonyms_dict)"
   ]
  },
  {
   "cell_type": "code",
   "execution_count": 71,
   "id": "f44db7b3",
   "metadata": {},
   "outputs": [
    {
     "name": "stdout",
     "output_type": "stream",
     "text": [
      "Columna de montos detectada: Total\n",
      "count      1.0\n",
      "mean     100.5\n",
      "std        NaN\n",
      "min      100.5\n",
      "25%      100.5\n",
      "50%      100.5\n",
      "75%      100.5\n",
      "max      100.5\n",
      "Name: Total, dtype: float64\n",
      "No hay suficientes muestras válidas para baseline (se requiere al menos 2).\n"
     ]
    },
    {
     "data": {
      "image/png": "[encoded data removed]",
      "text/plain": [
       "<Figure size 640x480 with 1 Axes>"
      ]
     },
     "metadata": {},
     "output_type": "display_data"
    }
   ],
   "source": [
    "# --- EDA y baseline usando el DataFrame aplanado ---\n",
    "# Usaremos df_flat y buscaremos la columna de montos de transacción\n",
    "# Reemplaza 'Total' por el nombre exacto de la columna si es diferente\n",
    "\n",
    "# Busca la columna que contenga 'Total' (insensible a mayúsculas)\n",
    "amount_col = None\n",
    "for col in df_flat.columns:\n",
    "    if 'total' in col.lower():\n",
    "        amount_col = col\n",
    "        break\n",
    "\n",
    "if amount_col:\n",
    "    print(f\"Columna de montos detectada: {amount_col}\")\n",
    "    print(df_flat[amount_col].describe())\n",
    "    # Creamos variable binaria para baseline\n",
    "    df_flat['es_alto_monto'] = (df_flat[amount_col] > df_flat[amount_col].median()).astype(int)\n",
    "    from sklearn.model_selection import train_test_split\n",
    "    from sklearn.dummy import DummyClassifier\n",
    "    from sklearn.metrics import accuracy_score, f1_score, confusion_matrix, ConfusionMatrixDisplay\n",
    "    import matplotlib.pyplot as plt\n",
    "    X = df_flat[[amount_col]].fillna(0)\n",
    "    y = df_flat['es_alto_monto']\n",
    "    # Filtra filas válidas (quita NaN y asegura que hay al menos 2 muestras)\n",
    "    valid_idx = X[amount_col].notna() & y.notna()\n",
    "    X_valid = X[valid_idx]\n",
    "    y_valid = y[valid_idx]\n",
    "    if len(X_valid) > 1:\n",
    "        X_train, X_test, y_train, y_test = train_test_split(X_valid, y_valid, test_size=0.3, random_state=42)\n",
    "        if len(X_train) > 0 and len(X_test) > 0:\n",
    "            dummy = DummyClassifier(strategy='most_frequent')\n",
    "            dummy.fit(X_train, y_train)\n",
    "            y_pred = dummy.predict(X_test)\n",
    "            acc = accuracy_score(y_test, y_pred)\n",
    "            f1 = f1_score(y_test, y_pred)\n",
    "            print('Métricas del baseline:')\n",
    "            print(f'Accuracy: {acc:.2f}')\n",
    "            print(f'F1 Score: {f1:.2f}')\n",
    "            cm = confusion_matrix(y_test, y_pred)\n",
    "            disp = ConfusionMatrixDisplay(confusion_matrix=cm)\n",
    "            disp.plot()\n",
    "            plt.title('Matriz de confusión del baseline')\n",
    "            plt.show()\n",
    "        else:\n",
    "            print('No hay suficientes datos para dividir en train/test.')\n",
    "    else:\n",
    "        print('No hay suficientes muestras válidas para baseline (se requiere al menos 2).')\n",
    "    # Histograma\n",
    "    plt.hist(df_flat[amount_col].dropna(), bins=10, color='skyblue')\n",
    "    plt.xlabel('Monto de Transacción')\n",
    "    plt.ylabel('Frecuencia')\n",
    "    plt.title('Distribución de Montos de Transacción')\n",
    "    plt.show()\n",
    "else:\n",
    "    print('No se encontró ninguna columna de montos (Total) en el DataFrame aplanado.')"
   ]
  }
 ],
 "metadata": {
  "kernelspec": {
   "display_name": "Python 3",
   "language": "python",
   "name": "python3"
  },
  "language_info": {
   "codemirror_mode": {
    "name": "ipython",
    "version": 3
   },
   "file_extension": ".py",
   "mimetype": "text/x-python",
   "name": "python",
   "nbconvert_exporter": "python",
   "pygments_lexer": "ipython3",
   "version": "3.11.7"
  }
 },
 "nbformat": 4,
 "nbformat_minor": 5
}
